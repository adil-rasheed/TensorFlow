{
 "cells": [
  {
   "cell_type": "code",
   "execution_count": 35,
   "metadata": {
    "collapsed": true
   },
   "outputs": [],
   "source": [
    "import matplotlib.pyplot as plt\n",
    "import numpy as np\n",
    "import tensorflow as tf\n",
    "from tensorflow.python.framework import ops"
   ]
  },
  {
   "cell_type": "code",
   "execution_count": 36,
   "metadata": {
    "collapsed": true
   },
   "outputs": [],
   "source": [
    "#Resetting and starting a new TensorFlow session\n",
    "ops.reset_default_graph()\n",
    "sess = tf.Session()"
   ]
  },
  {
   "cell_type": "code",
   "execution_count": 40,
   "metadata": {},
   "outputs": [
    {
     "name": "stdout",
     "output_type": "stream",
     "text": [
      "(4, 4, 1)\n",
      "(1, 4, 4, 1)\n"
     ]
    }
   ],
   "source": [
    "x_shape = [4, 4, 1] # Shape of a single image nx,ny and number of channels\n",
    "x_val = np.random.uniform(size=x_shape)\n",
    "print(x_val.shape)\n",
    "# Add an extra dimension corresponding to the number of images. Tensorflow expects a 4D array for images in a batch operation.\n",
    "x_val = np.expand_dims(x_val,axis=0) #tf.expand_dims(x_shape,axis=0) can also be used\n",
    "print(x_val.shape)"
   ]
  },
  {
   "cell_type": "code",
   "execution_count": 41,
   "metadata": {
    "collapsed": true
   },
   "outputs": [],
   "source": [
    "#Declare a placeholder to pass x_val\n",
    "x_data = tf.placeholder(tf.float32, shape=x_val.shape)"
   ]
  },
  {
   "cell_type": "code",
   "execution_count": 42,
   "metadata": {},
   "outputs": [
    {
     "name": "stdout",
     "output_type": "stream",
     "text": [
      "Dimension of the moving layer  (1, 2, 2, 1)\n"
     ]
    }
   ],
   "source": [
    "#Create a convolution filter / kernel\n",
    "kernel = tf.constant(0.25, shape=[2, 2, 1, 1])\n",
    "strides = [1, 2, 2, 1]\n",
    "convoluted_layer= tf.nn.conv2d(x_data, kernel, strides,padding='SAME', name='Moving_Avg_Window')\n",
    "print(\"Dimension of the moving layer \",convoluted_layer.shape)"
   ]
  },
  {
   "cell_type": "code",
   "execution_count": 43,
   "metadata": {
    "collapsed": true
   },
   "outputs": [],
   "source": [
    "# Define a custom layer which will be sigmoid(Ax+b) where\n",
    "# x is a 2x2 matrix and A and b are 2x2 matrices\n",
    "def custom_layer(input_matrix):\n",
    "    input_matrix_sqeezed = tf.squeeze(input_matrix) #Remove single dimensional entries\n",
    "    A = tf.constant([[1., 2.], [-1., 3.]])\n",
    "    b = tf.constant(1., shape=[2, 2])\n",
    "    temp1 = tf.matmul(A, input_matrix_sqeezed)\n",
    "    temp = tf.add(temp1, b) # Ax + b\n",
    "    return(tf.sigmoid(temp))"
   ]
  },
  {
   "cell_type": "code",
   "execution_count": 44,
   "metadata": {
    "collapsed": true
   },
   "outputs": [],
   "source": [
    "# Add custom layer to graph\n",
    "with tf.name_scope('Cnvoluted_Layer') as scope:\n",
    "    custom_layer1 = custom_layer(convoluted_layer)"
   ]
  },
  {
   "cell_type": "code",
   "execution_count": 45,
   "metadata": {},
   "outputs": [
    {
     "name": "stdout",
     "output_type": "stream",
     "text": [
      "[[[[ 0.31302458]\n",
      "   [ 0.48580945]]\n",
      "\n",
      "  [[ 0.73827696]\n",
      "   [ 0.63321739]]]]\n"
     ]
    }
   ],
   "source": [
    "# The output should be an array that is 2x2, but size (1,2,2,1)\n",
    "print(sess.run(convoluted_layer, feed_dict={x_data: x_val}))"
   ]
  },
  {
   "cell_type": "code",
   "execution_count": 46,
   "metadata": {},
   "outputs": [
    {
     "name": "stdout",
     "output_type": "stream",
     "text": [
      "[[ 0.94211     0.94003993]\n",
      " [ 0.9479357   0.91787678]]\n"
     ]
    }
   ],
   "source": [
    "# After custom operation, size is now 2x2 (squeezed out size 1 dims)\n",
    "print(sess.run(custom_layer1, feed_dict={x_data: x_val}))"
   ]
  },
  {
   "cell_type": "code",
   "execution_count": 47,
   "metadata": {
    "collapsed": true
   },
   "outputs": [],
   "source": [
    "merged = tf.summary.merge_all()\n",
    "writer = tf.summary.FileWriter(\"./graphs\", sess.graph)"
   ]
  }
 ],
 "metadata": {
  "kernelspec": {
   "display_name": "Python 3",
   "language": "python",
   "name": "python3"
  },
  "language_info": {
   "codemirror_mode": {
    "name": "ipython",
    "version": 3
   },
   "file_extension": ".py",
   "mimetype": "text/x-python",
   "name": "python",
   "nbconvert_exporter": "python",
   "pygments_lexer": "ipython3",
   "version": "3.6.1"
  }
 },
 "nbformat": 4,
 "nbformat_minor": 2
}
