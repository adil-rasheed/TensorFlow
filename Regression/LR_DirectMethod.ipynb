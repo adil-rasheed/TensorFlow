{
 "cells": [
  {
   "cell_type": "markdown",
   "metadata": {},
   "source": [
    "In this recipe, we solve a 2D regression problems with the matrix inverse method. Regression coefficients can be directly evaluated using the following expression.\n",
    "$$W=(X^{T}X)^{-1}X^{T}y$$"
   ]
  },
  {
   "cell_type": "code",
   "execution_count": 56,
   "metadata": {
    "collapsed": true
   },
   "outputs": [],
   "source": [
    "import matplotlib.pyplot as plt\n",
    "import numpy as np\n",
    "import tensorflow as tf"
   ]
  },
  {
   "cell_type": "code",
   "execution_count": 57,
   "metadata": {
    "collapsed": true
   },
   "outputs": [],
   "source": [
    "from tensorflow.python.framework import ops\n",
    "ops.reset_default_graph()\n",
    "sess = tf.Session()"
   ]
  },
  {
   "cell_type": "code",
   "execution_count": 58,
   "metadata": {},
   "outputs": [
    {
     "name": "stdout",
     "output_type": "stream",
     "text": [
      "Shape of X_vals  (100, 1)\n",
      "Shape of y_vals  (100, 1)\n"
     ]
    }
   ],
   "source": [
    "X_vals = np.linspace(0, 10, 100).reshape(-1,1)\n",
    "y_vals = X_vals + np.random.normal(0, 1, 100).reshape(-1,1)\n",
    "print(\"Shape of X_vals \",X_vals.shape)\n",
    "print(\"Shape of y_vals \",y_vals.shape)"
   ]
  },
  {
   "cell_type": "code",
   "execution_count": 59,
   "metadata": {},
   "outputs": [],
   "source": [
    "m=len(X_vals)\n",
    "X_padded = np.column_stack((X_vals,np.ones((m,1))))"
   ]
  },
  {
   "cell_type": "code",
   "execution_count": 60,
   "metadata": {},
   "outputs": [],
   "source": [
    "W = tf.matmul(tf.transpose(X_padded),X_padded)\n",
    "W = tf.matmul(tf.matrix_inverse(W),tf.transpose(X_padded))\n",
    "W = tf.matmul(W,y_vals)\n",
    "solution = sess.run(W)"
   ]
  },
  {
   "cell_type": "code",
   "execution_count": 61,
   "metadata": {
    "collapsed": true
   },
   "outputs": [],
   "source": [
    "slope = solution[0][0]\n",
    "y_intercept = solution[1][0]"
   ]
  },
  {
   "cell_type": "code",
   "execution_count": 62,
   "metadata": {},
   "outputs": [
    {
     "name": "stdout",
     "output_type": "stream",
     "text": [
      "slope: 0.992991242788\n",
      "y_intercept: -0.0827559984976\n"
     ]
    },
    {
     "data": {
      "image/png": "[encoded data removed]",
      "text/plain": [
       "<matplotlib.figure.Figure at 0x1dcad0c0da0>"
      ]
     },
     "metadata": {},
     "output_type": "display_data"
    }
   ],
   "source": [
    "print('slope: ' + str(slope))\n",
    "print('y_intercept: ' + str(y_intercept))\n",
    "\n",
    "# Get best fit line\n",
    "best_fit = []\n",
    "for i in X_vals:\n",
    "  best_fit.append(slope*i+y_intercept)\n",
    "\n",
    "# Plot the results\n",
    "plt.plot(X_vals, y_vals, 'o', label='Data')\n",
    "plt.plot(X_vals, best_fit, 'r-', label='Best fit line', linewidth=3)\n",
    "plt.legend(loc='upper left')\n",
    "plt.show()"
   ]
  },
  {
   "cell_type": "markdown",
   "metadata": {},
   "source": [
    "Conclusion and Remark: The recipe doesn't involve any hyperparameters like learning rates or number of iterations. However, it is computationally inefficient especially when the dataset is huge. "
   ]
  }
 ],
 "metadata": {
  "kernelspec": {
   "display_name": "Python 3",
   "language": "python",
   "name": "python3"
  },
  "language_info": {
   "codemirror_mode": {
    "name": "ipython",
    "version": 3
   },
   "file_extension": ".py",
   "mimetype": "text/x-python",
   "name": "python",
   "nbconvert_exporter": "python",
   "pygments_lexer": "ipython3",
   "version": "3.6.1"
  }
 },
 "nbformat": 4,
 "nbformat_minor": 2
}
